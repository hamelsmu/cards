{
 "cells": [
  {
   "cell_type": "markdown",
   "id": "e1f61577-35d3-41c4-ac09-00365f017b7f",
   "metadata": {},
   "source": [
    "# Deck\n",
    "\n",
    "> A collection of `Card`s."
   ]
  },
  {
   "cell_type": "code",
   "execution_count": null,
   "id": "08bf1934-2ef1-49a7-bd17-adb34cf80c28",
   "metadata": {},
   "outputs": [],
   "source": [
    "#| default_exp deck"
   ]
  },
  {
   "cell_type": "code",
   "execution_count": null,
   "id": "712c8e71-7bc1-4696-b52b-f1e6e74f865e",
   "metadata": {},
   "outputs": [],
   "source": [
    "#| export\n",
    "from cards.card import Card, ranks, suits"
   ]
  },
  {
   "cell_type": "code",
   "execution_count": null,
   "id": "7a2424ef-3971-45d6-85e4-f41eb8f56d12",
   "metadata": {},
   "outputs": [],
   "source": [
    "#| export\n",
    "class Deck:\n",
    "    \"\"\"\n",
    "    A collection of `Card`s.\n",
    "    \"\"\"\n",
    "    def __init__(self):\n",
    "        self.cards = []\n",
    "        for suit in range(len(suits)):\n",
    "            for rank in range(1, len(ranks)):\n",
    "                self.cards.append(Card(suit, rank))\n",
    "    \n",
    "    def __repr__(self):\n",
    "        return \" \".join(repr(card) for card in self.cards)"
   ]
  },
  {
   "cell_type": "code",
   "execution_count": null,
   "id": "1b45b499-3a6e-41b5-8d64-ce7ed6c56641",
   "metadata": {},
   "outputs": [
    {
     "data": {
      "text/plain": [
       "A♣️ 2♣️ 3♣️ 4♣️ 5♣️ 6♣️ 7♣️ 8♣️ 9♣️ 10♣️ J♣️ Q♣️ K♣️ A♦️ 2♦️ 3♦️ 4♦️ 5♦️ 6♦️ 7♦️ 8♦️ 9♦️ 10♦️ J♦️ Q♦️ K♦️ A❤️ 2❤️ 3❤️ 4❤️ 5❤️ 6❤️ 7❤️ 8❤️ 9❤️ 10❤️ J❤️ Q❤️ K❤️ A♠️ 2♠️ 3♠️ 4♠️ 5♠️ 6♠️ 7♠️ 8♠️ 9♠️ 10♠️ J♠️ Q♠️ K♠️"
      ]
     },
     "execution_count": null,
     "metadata": {},
     "output_type": "execute_result"
    }
   ],
   "source": [
    "deck = Deck()\n",
    "deck"
   ]
  },
  {
   "cell_type": "code",
   "execution_count": null,
   "id": "e7447e49-2923-4ced-8f46-83609022a57e",
   "metadata": {},
   "outputs": [],
   "source": [
    "import nbdev; nbdev.nbdev_export()"
   ]
  }
 ],
 "metadata": {
  "kernelspec": {
   "display_name": "python3",
   "language": "python",
   "name": "python3"
  }
 },
 "nbformat": 4,
 "nbformat_minor": 5
}
